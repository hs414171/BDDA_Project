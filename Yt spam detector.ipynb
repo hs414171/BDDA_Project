{
 "cells": [
  {
   "cell_type": "code",
   "execution_count": 1,
   "id": "38dd3a0e",
   "metadata": {},
   "outputs": [],
   "source": [
    "import tensorflow as tf\n",
    "from tensorflow.keras.layers import Embedding\n",
    "from tensorflow.keras.preprocessing.sequence import pad_sequences\n",
    "from tensorflow.keras.models import Sequential\n",
    "from tensorflow.keras.preprocessing.text import one_hot\n",
    "from tensorflow.keras.layers import LSTM\n",
    "from tensorflow.keras.layers import Dense"
   ]
  },
  {
   "cell_type": "code",
   "execution_count": 2,
   "id": "10c14faa",
   "metadata": {},
   "outputs": [
    {
     "name": "stderr",
     "output_type": "stream",
     "text": [
      "[nltk_data] Downloading package stopwords to\n",
      "[nltk_data]     C:\\Users\\hs414\\AppData\\Roaming\\nltk_data...\n",
      "[nltk_data]   Package stopwords is already up-to-date!\n"
     ]
    },
    {
     "data": {
      "text/plain": [
       "True"
      ]
     },
     "execution_count": 2,
     "metadata": {},
     "output_type": "execute_result"
    }
   ],
   "source": [
    "import re\n",
    "import nltk\n",
    "from nltk.corpus import stopwords\n",
    "nltk.download('stopwords')"
   ]
  },
  {
   "cell_type": "code",
   "execution_count": 3,
   "id": "59e5cd60",
   "metadata": {},
   "outputs": [],
   "source": [
    "import pandas as pd"
   ]
  },
  {
   "cell_type": "code",
   "execution_count": 4,
   "id": "8d88289d",
   "metadata": {},
   "outputs": [],
   "source": [
    "import numpy as np"
   ]
  },
  {
   "cell_type": "code",
   "execution_count": 22,
   "id": "6ce76a8d",
   "metadata": {},
   "outputs": [],
   "source": [
    "x = \"you should die\"\n",
    "y = \"I like you dream\""
   ]
  },
  {
   "cell_type": "code",
   "execution_count": 23,
   "id": "559fa4e6",
   "metadata": {},
   "outputs": [],
   "source": [
    "from nltk.stem.porter import PorterStemmer"
   ]
  },
  {
   "cell_type": "code",
   "execution_count": 24,
   "id": "0609502d",
   "metadata": {},
   "outputs": [],
   "source": [
    "def clean(x,voc_size = 5000,sent_length=159):\n",
    "    ps = PorterStemmer()\n",
    "    review = re.sub('[^a-zA-Z]',' ',x)\n",
    "    review = review.lower()\n",
    "    review = review.split()\n",
    "\n",
    "    review = [ps.stem(word) for word in review if not word in stopwords.words('english')]\n",
    "    review = ' '.join(review)\n",
    "    onehot_repr = [one_hot(review,voc_size)]\n",
    "    embedded_x = pad_sequences(onehot_repr,padding='pre',maxlen=sent_length)\n",
    "    return embedded_x"
   ]
  },
  {
   "cell_type": "code",
   "execution_count": 26,
   "id": "7ad11fb7",
   "metadata": {},
   "outputs": [],
   "source": [
    "x_clean = clean(x)\n",
    "y_clean = clean(y)"
   ]
  },
  {
   "cell_type": "code",
   "execution_count": 27,
   "id": "152af4b6",
   "metadata": {},
   "outputs": [],
   "source": [
    "model = tf.keras.models.load_model('ytnn.h5')"
   ]
  },
  {
   "cell_type": "code",
   "execution_count": 28,
   "id": "d798ab59",
   "metadata": {},
   "outputs": [
    {
     "name": "stdout",
     "output_type": "stream",
     "text": [
      "1/1 [==============================] - 0s 305ms/step\n"
     ]
    },
    {
     "data": {
      "text/plain": [
       "array([[0.02553676]], dtype=float32)"
      ]
     },
     "execution_count": 28,
     "metadata": {},
     "output_type": "execute_result"
    }
   ],
   "source": [
    "model.predict(x_clean)"
   ]
  },
  {
   "cell_type": "code",
   "execution_count": 33,
   "id": "d181a21d",
   "metadata": {},
   "outputs": [
    {
     "name": "stdout",
     "output_type": "stream",
     "text": [
      "1/1 [==============================] - 0s 25ms/step\n"
     ]
    },
    {
     "data": {
      "text/plain": [
       "array([[0.5597731]], dtype=float32)"
      ]
     },
     "execution_count": 33,
     "metadata": {},
     "output_type": "execute_result"
    }
   ],
   "source": [
    "model.predict(y_clean)"
   ]
  },
  {
   "cell_type": "code",
   "execution_count": 41,
   "id": "ba726bd4",
   "metadata": {},
   "outputs": [],
   "source": [
    "def predict(model,x):\n",
    "    pred = model.predict(x)\n",
    "    if pred > 0.50:\n",
    "        print(\"The Comment is not spam\")\n",
    "    else:\n",
    "        print(\"The Comment is spam\")\n",
    "    return pred"
   ]
  },
  {
   "cell_type": "code",
   "execution_count": 42,
   "id": "68112f03",
   "metadata": {},
   "outputs": [
    {
     "name": "stdout",
     "output_type": "stream",
     "text": [
      "1/1 [==============================] - 0s 26ms/step\n",
      "The Comment is spam\n"
     ]
    },
    {
     "data": {
      "text/plain": [
       "array([[0.02553676]], dtype=float32)"
      ]
     },
     "execution_count": 42,
     "metadata": {},
     "output_type": "execute_result"
    }
   ],
   "source": [
    "predict(model,x_clean)"
   ]
  },
  {
   "cell_type": "code",
   "execution_count": 43,
   "id": "636d8344",
   "metadata": {},
   "outputs": [
    {
     "name": "stdout",
     "output_type": "stream",
     "text": [
      "1/1 [==============================] - 0s 25ms/step\n",
      "The Comment is not spam\n"
     ]
    },
    {
     "data": {
      "text/plain": [
       "array([[0.5597731]], dtype=float32)"
      ]
     },
     "execution_count": 43,
     "metadata": {},
     "output_type": "execute_result"
    }
   ],
   "source": [
    "predict(model,y_clean)"
   ]
  },
  {
   "cell_type": "code",
   "execution_count": 49,
   "id": "7ff984a8",
   "metadata": {},
   "outputs": [],
   "source": [
    "stop_words = pd.DataFrame(stopwords.words('english'))"
   ]
  },
  {
   "cell_type": "code",
   "execution_count": 52,
   "id": "48643912",
   "metadata": {},
   "outputs": [],
   "source": [
    "stop_words.to_csv(\"stopwords\")"
   ]
  },
  {
   "cell_type": "code",
   "execution_count": null,
   "id": "0b5acdd8",
   "metadata": {},
   "outputs": [],
   "source": []
  }
 ],
 "metadata": {
  "kernelspec": {
   "display_name": "Python 3 (ipykernel)",
   "language": "python",
   "name": "python3"
  },
  "language_info": {
   "codemirror_mode": {
    "name": "ipython",
    "version": 3
   },
   "file_extension": ".py",
   "mimetype": "text/x-python",
   "name": "python",
   "nbconvert_exporter": "python",
   "pygments_lexer": "ipython3",
   "version": "3.9.13"
  }
 },
 "nbformat": 4,
 "nbformat_minor": 5
}
